{
 "cells": [
  {
   "cell_type": "code",
   "execution_count": 1,
   "id": "4124614f",
   "metadata": {
    "ExecuteTime": {
     "end_time": "2024-10-23T06:24:58.155542Z",
     "start_time": "2024-10-23T06:24:58.149815Z"
    }
   },
   "outputs": [],
   "source": [
    "# !pip install kagglehub"
   ]
  },
  {
   "cell_type": "code",
   "execution_count": 2,
   "id": "2f24d065",
   "metadata": {
    "ExecuteTime": {
     "end_time": "2024-10-23T06:24:58.162645Z",
     "start_time": "2024-10-23T06:24:58.158536Z"
    }
   },
   "outputs": [],
   "source": [
    "# import kagglehub\n",
    "\n",
    "# # Download latest version\n",
    "# path = kagglehub.dataset_download(\"mkechinov/ecommerce-events-history-in-electronics-store\")\n",
    "\n",
    "# print(\"Path to dataset files:\", path)"
   ]
  },
  {
   "cell_type": "code",
   "execution_count": 6,
   "id": "88102afe",
   "metadata": {
    "ExecuteTime": {
     "end_time": "2024-10-23T06:29:31.689209Z",
     "start_time": "2024-10-23T06:29:30.271320Z"
    }
   },
   "outputs": [],
   "source": [
    "import pandas as pd\n",
    "\n",
    "# Specify the full path to the CSV file\n",
    "file_path = r\"C:\\Users\\Nandan Hegde\\.cache\\kagglehub\\datasets\\mkechinov\\ecommerce-events-history-in-electronics-store\\versions\\1\\events.csv\"\n",
    "\n",
    "# Read the CSV file\n",
    "df = pd.read_csv(file_path)\n",
    "\n",
    "# Check the first few rows to ensure the data was read correctly\n",
    "# print(df.head())"
   ]
  },
  {
   "cell_type": "code",
   "execution_count": 7,
   "id": "70017fd1",
   "metadata": {
    "ExecuteTime": {
     "end_time": "2024-10-23T06:29:34.961065Z",
     "start_time": "2024-10-23T06:29:32.302026Z"
    }
   },
   "outputs": [
    {
     "name": "stdout",
     "output_type": "stream",
     "text": [
      "  event_type  product_id   category_id                  category_code  \\\n",
      "0       view     1996170  2.144416e+18          electronics.telephone   \n",
      "1       view      139905  2.144416e+18    computers.components.cooler   \n",
      "2       view      215454  2.144416e+18                            NaN   \n",
      "3       view      635807  2.144416e+18  computers.peripherals.printer   \n",
      "4       view     3658723  2.144416e+18                            NaN   \n",
      "\n",
      "         brand   price       user_id user_session        date          time  \n",
      "0          NaN   31.90  1.515916e+18   LJuJVLEjPT  2020-09-24  11:57:06 UTC  \n",
      "1       zalman   17.16  1.515916e+18   tdicluNnRY  2020-09-24  11:57:26 UTC  \n",
      "2          NaN    9.81  1.515916e+18   4TMArHtXQy  2020-09-24  11:57:27 UTC  \n",
      "3       pantum  113.81  1.515916e+18   aGFYrNgC08  2020-09-24  11:57:33 UTC  \n",
      "4  cameronsino   15.87  1.515916e+18   aa4mmk0kwQ  2020-09-24  11:57:36 UTC  \n"
     ]
    }
   ],
   "source": [
    "# Convert user_id and category_id to scientific notation\n",
    "df['user_id'] = df['user_id'].astype(float).map('{:e}'.format)\n",
    "df['category_id'] = df['category_id'].astype(float).map('{:e}'.format)\n",
    "\n",
    "# Split the event_time into date and time\n",
    "df[['date', 'time']] = df['event_time'].str.split(' ', n=1, expand=True)\n",
    "\n",
    "# Optionally drop the original event_time column\n",
    "df.drop('event_time', axis=1, inplace=True)\n",
    "\n",
    "# Display the updated DataFrame\n",
    "print(df.head())"
   ]
  },
  {
   "cell_type": "code",
   "execution_count": null,
   "id": "8a83d691",
   "metadata": {
    "ExecuteTime": {
     "end_time": "2024-10-23T06:25:01.845230Z",
     "start_time": "2024-10-23T06:25:01.844094Z"
    }
   },
   "outputs": [],
   "source": [
    "# import kagglehub\n",
    "\n",
    "# # Download latest version\n",
    "# path = kagglehub.dataset_download(\"mkechinov/ecommerce-behavior-data-from-multi-category-store\")\n",
    "\n",
    "# print(\"Path to dataset files:\", path)"
   ]
  },
  {
   "cell_type": "code",
   "execution_count": null,
   "id": "8961fca8",
   "metadata": {
    "ExecuteTime": {
     "end_time": "2024-10-23T06:25:01.847224Z",
     "start_time": "2024-10-23T06:25:01.847224Z"
    }
   },
   "outputs": [],
   "source": [
    "# import pandas as pd\n",
    "\n",
    "# # Specify the full path to the CSV file\n",
    "# file_path = r\"C:\\Users\\Nandan Hegde\\.cache\\kagglehub\\datasets\\mkechinov\\ecommerce-behavior-data-from-multi-category-store\\versions\\8\\2019-Nov.csv\"\n",
    "\n",
    "# # Read the CSV file\n",
    "# df = pd.read_csv(file_path,nrows=100)\n",
    "\n",
    "# # Check the first few rows to ensure the data was read correctly\n",
    "# print(df.head())"
   ]
  }
 ],
 "metadata": {
  "kernelspec": {
   "display_name": "Python 3 (ipykernel)",
   "language": "python",
   "name": "python3"
  },
  "language_info": {
   "codemirror_mode": {
    "name": "ipython",
    "version": 3
   },
   "file_extension": ".py",
   "mimetype": "text/x-python",
   "name": "python",
   "nbconvert_exporter": "python",
   "pygments_lexer": "ipython3",
   "version": "3.11.3"
  },
  "toc": {
   "base_numbering": 1,
   "nav_menu": {},
   "number_sections": true,
   "sideBar": true,
   "skip_h1_title": false,
   "title_cell": "Table of Contents",
   "title_sidebar": "Contents",
   "toc_cell": false,
   "toc_position": {},
   "toc_section_display": true,
   "toc_window_display": false
  }
 },
 "nbformat": 4,
 "nbformat_minor": 5
}
